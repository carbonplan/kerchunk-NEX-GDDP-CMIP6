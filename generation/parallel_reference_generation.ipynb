{
 "cells": [
  {
   "cell_type": "markdown",
   "metadata": {},
   "source": [
    "# Parallelizing Reference Generation with Coiled\n",
    "This notebook is a modified version of the `dask-nasa-nex.py` script that was used to generate the reference files. This example uses coiled to spin up a large # of small workers and reduces the computation time from 8+ hours on a 32 core 256Gb ram AWS instance to 30 minutes with 500 `t4g.small` workers."
   ]
  },
  {
   "cell_type": "code",
   "execution_count": null,
   "metadata": {},
   "outputs": [],
   "source": [
    "import dask.bag as db\n",
    "import dask\n",
    "import fsspec\n",
    "import pandas as pd\n",
    "from distributed import Client\n",
    "from kerchunk.combine import MultiZarrToZarr\n",
    "from kerchunk.hdf import SingleHdf5ToZarr"
   ]
  },
  {
   "cell_type": "code",
   "execution_count": null,
   "metadata": {},
   "outputs": [],
   "source": [
    "cluster = coiled.Cluster(\n",
    "    n_workers=500,\n",
    "    worker_vm_types=[\"t4g.small\"],\n",
    "    spot_policy=\"spot_with_fallback\",\n",
    "    arm=True,\n",
    ")\n",
    "client = cluster.get_client()"
   ]
  },
  {
   "cell_type": "code",
   "execution_count": null,
   "metadata": {},
   "outputs": [],
   "source": [
    "def _nasa_nex_df() -> pd.DataFrame:\n",
    "    return pd.read_csv(\n",
    "        \"s3://carbonplan-share/nasa-nex-reference/nasa_nex_formatted.csv\"\n",
    "    )\n",
    "\n",
    "\n",
    "def _GCM_scenarios(df: pd.DataFrame) -> pd.DataFrame:\n",
    "    df = pd.read_csv(\"s3://carbonplan-share/nasa-nex-reference/nasa_nex_formatted.csv\")\n",
    "    colapsed_df = (\n",
    "        df.groupby([\"GCM\", \"scenario\", \"ensemble_member\"])[\"variable\"]\n",
    "        .apply(list)\n",
    "        .reset_index()\n",
    "    )\n",
    "    colapsed_df[\"variable\"] = colapsed_df[\"variable\"].apply(lambda x: list(set(x)))\n",
    "\n",
    "    return colapsed_df\n",
    "\n",
    "\n",
    "def read_catalog_file(catalog_url):\n",
    "    return pd.read_csv(catalog_url)"
   ]
  },
  {
   "cell_type": "code",
   "execution_count": null,
   "metadata": {},
   "outputs": [],
   "source": [
    "catalog_file_url = \"s3://carbonplan-share/nasa-nex-reference/reference_catalog_prod.csv\"\n",
    "nasa_nex_df = _nasa_nex_df()\n",
    "nasa_nex_catalog = _GCM_scenarios(nasa_nex_df)\n",
    "nasa_nex_catalog[\"ID\"] = nasa_nex_catalog[\"GCM\"] + \"_\" + nasa_nex_catalog[\"scenario\"]\n",
    "\n",
    "# If we're going to write, we can use this to check what refs exist in our catalog\n",
    "# kerchunk_ref_catalog = read_catalog_file(catalog_file_url)\n",
    "# missing_refs_df = nasa_nex_catalog.merge(kerchunk_ref_catalog, how='outer', on='ID',indicator=True).query('_merge != \"both\"')[['GCM', 'scenario', 'ID']]"
   ]
  },
  {
   "cell_type": "code",
   "execution_count": null,
   "metadata": {},
   "outputs": [],
   "source": [
    "# If we're not writing, we can use this for testing\n",
    "missing_refs_df = nasa_nex_catalog"
   ]
  },
  {
   "cell_type": "code",
   "execution_count": null,
   "metadata": {},
   "outputs": [],
   "source": [
    "missing_refs_df"
   ]
  },
  {
   "cell_type": "code",
   "execution_count": null,
   "metadata": {},
   "outputs": [],
   "source": [
    "so = dict(mode=\"rb\", anon=True, default_fill_cache=False, default_cache_type=\"first\")\n",
    "\n",
    "\n",
    "def build_reference_catalog(catalog_file_url: str):\n",
    "    ref_list = [\n",
    "        \"s3://\" + ref\n",
    "        for ref in fs_read.ls(\n",
    "            \"s3://carbonplan-share/nasa-nex-reference/references_prod/\"\n",
    "        )\n",
    "    ]\n",
    "    ref_list.remove(\"s3://carbonplan-share/nasa-nex-reference/references_prod/\")\n",
    "    ref_df = pd.DataFrame({\"ID\": None, \"url\": ref_list})\n",
    "    ref_df[\"ID\"] = ref_df[\"url\"].str.split(\"/\", expand=True)[5]\n",
    "    ref_df.to_csv(catalog_file_url, index=False)"
   ]
  },
  {
   "cell_type": "code",
   "execution_count": null,
   "metadata": {},
   "outputs": [],
   "source": [
    "@dask.delayed\n",
    "def mzz_test(refs):\n",
    "    mzz = MultiZarrToZarr(\n",
    "        refs,\n",
    "        remote_protocol=\"s3\",\n",
    "        concat_dims=[\"time\"],\n",
    "        identical_dims=[\"lat\", \"lon\"],\n",
    "    ).translate()\n",
    "\n",
    "    # We're skipping writing the parquet files for now, but\n",
    "    # the entire reference is ~300 Mb, so shouldn't impact\n",
    "    # Timing a bunch\n",
    "    return mzz\n",
    "\n",
    "\n",
    "@dask.delayed\n",
    "def generate_json_reference(fil):\n",
    "    fs_read = fsspec.filesystem(\"s3\", anon=True, skip_instance_cache=True)\n",
    "\n",
    "    with fs_read.open(fil, **so) as infile:\n",
    "        h5chunks = SingleHdf5ToZarr(infile, fil, inline_threshold=300)\n",
    "        return h5chunks.translate()  # outf\n",
    "\n",
    "\n",
    "def gen_all_refs(row):\n",
    "    GCM = row[\"GCM\"]\n",
    "    scenario = row[\"scenario\"]\n",
    "\n",
    "    file_pattern = nasa_nex_df.query(f\"GCM == '{GCM}'  & scenario == '{scenario}'\")\n",
    "\n",
    "    refs = [generate_json_reference(fil) for fil in file_pattern[\"url\"].to_list()]\n",
    "    mzz = mzz_test(refs)\n",
    "    return mzz"
   ]
  },
  {
   "cell_type": "code",
   "execution_count": null,
   "metadata": {},
   "outputs": [],
   "source": [
    "row_list = [row for _, row in missing_refs_df.iterrows()]\n",
    "tasks_alt = [(gen_all_refs)(row) for row in row_list]"
   ]
  },
  {
   "cell_type": "code",
   "execution_count": null,
   "metadata": {},
   "outputs": [],
   "source": [
    "dask.compute(tasks_alt)"
   ]
  },
  {
   "cell_type": "code",
   "execution_count": null,
   "metadata": {},
   "outputs": [],
   "source": [
    "client.shutdown()"
   ]
  },
  {
   "attachments": {},
   "cell_type": "markdown",
   "metadata": {},
   "source": [
    "## Update Catalog"
   ]
  },
  {
   "cell_type": "code",
   "execution_count": null,
   "metadata": {},
   "outputs": [],
   "source": [
    "# build_reference_catalog(catalog_file_url)"
   ]
  }
 ],
 "metadata": {
  "kernelspec": {
   "display_name": "Python 3",
   "language": "python",
   "name": "python3"
  },
  "language_info": {
   "codemirror_mode": {
    "name": "ipython",
    "version": 3
   },
   "file_extension": ".py",
   "mimetype": "text/x-python",
   "name": "python",
   "nbconvert_exporter": "python",
   "pygments_lexer": "ipython3",
   "version": "3.10.13"
  },
  "orig_nbformat": 4
 },
 "nbformat": 4,
 "nbformat_minor": 2
}
