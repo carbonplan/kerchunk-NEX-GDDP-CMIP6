{
 "cells": [
  {
   "attachments": {},
   "cell_type": "markdown",
   "metadata": {},
   "source": [
    "# Comparison using kerchunk / datatree"
   ]
  },
  {
   "cell_type": "code",
   "execution_count": 1,
   "metadata": {},
   "outputs": [],
   "source": [
    "from datatree import DataTree\n",
    "from datatree import map_over_subtree\n",
    "import xarray as xr\n",
    "import pandas as pd\n",
    "import dask\n",
    "import xclim\n",
    "import thermofeel as tf\n",
    "import numpy as np \n",
    "from distributed import Client\n",
    "from fsspec.implementations.reference import ReferenceFileSystem\n",
    "import kerchunk\n",
    "import coiled\n",
    "from utils import wbgt, load_elev, adjust_pressure\n",
    "\n",
    "### TO DO: ONLY NEED SSP 245!\n",
    "ds = dt['GISS-E2-1-G']['ssp245'].to_dataset()"
   ]
  },
  {
   "cell_type": "code",
   "execution_count": null,
   "metadata": {},
   "outputs": [],
   "source": [
    "# coiled.list_instance_types(backend=\"aws\",arch=\"x86_64\", cores=2, memory=\"2 Gib\")\n",
    "\n"
   ]
  },
  {
   "cell_type": "code",
   "execution_count": 2,
   "metadata": {},
   "outputs": [],
   "source": [
    "# Read the reference catalog into a Pandas DataFrame\n",
    "cat_df = pd.read_csv(\n",
    "    \"s3://carbonplan-share/nasa-nex-reference/reference_catalog_nested.csv\"\n",
    ")\n",
    "cat_df = cat_df.iloc[0:2]\n",
    "# Convert the DataFrame into a dictionary\n",
    "catalog = cat_df.set_index(\"ID\").T.to_dict(\"records\")[0]"
   ]
  },
  {
   "cell_type": "code",
   "execution_count": 3,
   "metadata": {},
   "outputs": [
    {
     "data": {
      "application/vnd.jupyter.widget-view+json": {
       "model_id": "7326e01e5eba4348941df5008faa02bb",
       "version_major": 2,
       "version_minor": 0
      },
      "text/plain": [
       "Output()"
      ]
     },
     "metadata": {},
     "output_type": "display_data"
    },
    {
     "data": {
      "text/html": [
       "<pre style=\"white-space:pre;overflow-x:auto;line-height:normal;font-family:Menlo,'DejaVu Sans Mono',consolas,'Courier New',monospace\">aiobotocore 2.7.0 has requirement botocore&lt;1.31.65,&gt;=1.31.16, but you have botocore 1.31.72.\n",
       "</pre>\n"
      ],
      "text/plain": [
       "aiobotocore 2.7.0 has requirement botocore<1.31.65,>=1.31.16, but you have botocore 1.31.72.\n"
      ]
     },
     "metadata": {},
     "output_type": "display_data"
    },
    {
     "data": {
      "text/html": [
       "<pre style=\"white-space:pre;overflow-x:auto;line-height:normal;font-family:Menlo,'DejaVu Sans Mono',consolas,'Courier New',monospace\">Package - aiobotocore, Pip check had the following issues that need resolving: \n",
       "aiobotocore 2.7.0 has requirement botocore&lt;1.31.65,&gt;=1.31.16, but you have botocore 1.31.72.\n",
       "</pre>\n"
      ],
      "text/plain": [
       "Package - aiobotocore, Pip check had the following issues that need resolving: \n",
       "aiobotocore 2.7.0 has requirement botocore<1.31.65,>=1.31.16, but you have botocore 1.31.72.\n"
      ]
     },
     "metadata": {},
     "output_type": "display_data"
    },
    {
     "data": {
      "text/html": [
       "<pre style=\"white-space:pre;overflow-x:auto;line-height:normal;font-family:Menlo,'DejaVu Sans Mono',consolas,'Courier New',monospace\"></pre>\n"
      ],
      "text/plain": []
     },
     "metadata": {},
     "output_type": "display_data"
    },
    {
     "data": {
      "text/html": [
       "<pre style=\"white-space:pre;overflow-x:auto;line-height:normal;font-family:Menlo,'DejaVu Sans Mono',consolas,'Courier New',monospace\">╭────────────────────────────────────────── <span style=\"color: #008000; text-decoration-color: #008000; font-weight: bold\">Package Info</span> ──────────────────────────────────────────╮\n",
       "│                              ╷                                                                   │\n",
       "│  <span style=\"font-weight: bold\"> Package                    </span>│<span style=\"font-weight: bold\"> Note                                                            </span>  │\n",
       "│ ╶────────────────────────────┼─────────────────────────────────────────────────────────────────╴ │\n",
       "│   coiled_local_comparison    │ Source wheel built from                                           │\n",
       "│                              │ /Users/nrhagen/Documents/carbonplan/nasa-nex-kerchunk/notebooks   │\n",
       "│                              │ /comparison                                                       │\n",
       "│   coiled_local_site_packages │ Source wheel built from                                           │\n",
       "│                              │ /Users/nrhagen/.local/lib/python3.10/site-packages                │\n",
       "│   kerchunk                   │ Wheel built from                                                  │\n",
       "│                              │ git+https://github.com/fsspec/kerchunk@cdd106b7ada2731c6f450181   │\n",
       "│                              │ 59f1d3d53acd8d3e                                                  │\n",
       "│                              ╵                                                                   │\n",
       "╰──────────────────────────────────────────────────────────────────────────────────────────────────╯\n",
       "</pre>\n"
      ],
      "text/plain": [
       "╭────────────────────────────────────────── \u001b[1;32mPackage Info\u001b[0m ──────────────────────────────────────────╮\n",
       "│                              ╷                                                                   │\n",
       "│  \u001b[1m \u001b[0m\u001b[1mPackage                   \u001b[0m\u001b[1m \u001b[0m│\u001b[1m \u001b[0m\u001b[1mNote                                                           \u001b[0m\u001b[1m \u001b[0m  │\n",
       "│ ╶────────────────────────────┼─────────────────────────────────────────────────────────────────╴ │\n",
       "│   coiled_local_comparison    │ Source wheel built from                                           │\n",
       "│                              │ /Users/nrhagen/Documents/carbonplan/nasa-nex-kerchunk/notebooks   │\n",
       "│                              │ /comparison                                                       │\n",
       "│   coiled_local_site_packages │ Source wheel built from                                           │\n",
       "│                              │ /Users/nrhagen/.local/lib/python3.10/site-packages                │\n",
       "│   kerchunk                   │ Wheel built from                                                  │\n",
       "│                              │ git+https://github.com/fsspec/kerchunk@cdd106b7ada2731c6f450181   │\n",
       "│                              │ 59f1d3d53acd8d3e                                                  │\n",
       "│                              ╵                                                                   │\n",
       "╰──────────────────────────────────────────────────────────────────────────────────────────────────╯\n"
      ]
     },
     "metadata": {},
     "output_type": "display_data"
    },
    {
     "data": {
      "text/html": [
       "<pre style=\"white-space:pre;overflow-x:auto;line-height:normal;font-family:Menlo,'DejaVu Sans Mono',consolas,'Courier New',monospace\">╭──────────────────────────────────── <span style=\"color: #800000; text-decoration-color: #800000; font-weight: bold\">Not Synced with Cluster</span> ─────────────────────────────────────╮\n",
       "│               ╷                                                                      ╷           │\n",
       "│  <span style=\"font-weight: bold\"> Package     </span>│<span style=\"font-weight: bold\"> Error                                                                </span>│<span style=\"font-weight: bold\"> Risk    </span>  │\n",
       "│ ╶─────────────┼──────────────────────────────────────────────────────────────────────┼─────────╴ │\n",
       "│   aiobotocore │ Pip check had the following issues that need resolving:              │ Warning   │\n",
       "│               │ aiobotocore 2.7.0 has requirement botocore&lt;1.31.65,&gt;=1.31.16, but    │           │\n",
       "│               │ you have botocore 1.31.72.                                           │           │\n",
       "│               ╵                                                                      ╵           │\n",
       "╰──────────────────────────────────────────────────────────────────────────────────────────────────╯\n",
       "</pre>\n"
      ],
      "text/plain": [
       "╭──────────────────────────────────── \u001b[1;31mNot Synced with Cluster\u001b[0m ─────────────────────────────────────╮\n",
       "│               ╷                                                                      ╷           │\n",
       "│  \u001b[1m \u001b[0m\u001b[1mPackage    \u001b[0m\u001b[1m \u001b[0m│\u001b[1m \u001b[0m\u001b[1mError                                                               \u001b[0m\u001b[1m \u001b[0m│\u001b[1m \u001b[0m\u001b[1mRisk   \u001b[0m\u001b[1m \u001b[0m  │\n",
       "│ ╶─────────────┼──────────────────────────────────────────────────────────────────────┼─────────╴ │\n",
       "│   aiobotocore │ Pip check had the following issues that need resolving:              │ Warning   │\n",
       "│               │ aiobotocore 2.7.0 has requirement botocore<1.31.65,>=1.31.16, but    │           │\n",
       "│               │ you have botocore 1.31.72.                                           │           │\n",
       "│               ╵                                                                      ╵           │\n",
       "╰──────────────────────────────────────────────────────────────────────────────────────────────────╯\n"
      ]
     },
     "metadata": {},
     "output_type": "display_data"
    },
    {
     "data": {
      "application/vnd.jupyter.widget-view+json": {
       "model_id": "a8986de20152448f91433e22f292e70a",
       "version_major": 2,
       "version_minor": 0
      },
      "text/plain": [
       "Output()"
      ]
     },
     "metadata": {},
     "output_type": "display_data"
    },
    {
     "data": {
      "text/html": [
       "<pre style=\"white-space:pre;overflow-x:auto;line-height:normal;font-family:Menlo,'DejaVu Sans Mono',consolas,'Courier New',monospace\"></pre>\n"
      ],
      "text/plain": []
     },
     "metadata": {},
     "output_type": "display_data"
    }
   ],
   "source": [
    "import coiled\n",
    "\n",
    "coiled.create_software_environment(\n",
    "    name=\"kerchunk-nasa-nex\",\n",
    "    container=\"quay.io/carbonplan/kerchunk-nasa-nex\",\n",
    ")\n",
    "cluster = coiled.Cluster(n_workers=4, worker_vm_types=['t3.small'])\n",
    "client = cluster.get_client()\n",
    "\n"
   ]
  },
  {
   "cell_type": "code",
   "execution_count": 4,
   "metadata": {},
   "outputs": [],
   "source": [
    "def load_ref_ds(url: str, gcm_scenario: str):\n",
    "    storage_options={\"remote_protocol\":\"s3\",\"target_protocol\":\"s3\", \"lazy\":True, \"skip_instance_cache\": True} # options passed to fsspec\n",
    "    open_dataset_options={\"chunks\": {}} # opens passed to xarray\n",
    "    ds = xr.open_dataset(url, engine=\"kerchunk\", storage_options=storage_options, open_dataset_options=open_dataset_options)\n",
    "    \n",
    "    if set([\"hurs\", \"huss\" , \"tasmax\"]).issubset(set(list(ds))):\n",
    "         # adding the gcm/scenario combo to attrs for later down the pipeline\n",
    "        ds.attrs['gcm_scenario'] = gcm_scenario\n",
    "        return ds \n",
    "\n",
    "\n",
    "tasks = {id: dask.delayed(load_ref_ds)(url, id) for id, url in catalog.items()}"
   ]
  },
  {
   "cell_type": "code",
   "execution_count": 5,
   "metadata": {},
   "outputs": [],
   "source": [
    "catalog_computed = dask.compute(tasks)"
   ]
  },
  {
   "cell_type": "code",
   "execution_count": 6,
   "metadata": {},
   "outputs": [],
   "source": [
    "dt = DataTree.from_dict(catalog_computed[0])\n",
    "elev = load_elev()\n"
   ]
  },
  {
   "cell_type": "code",
   "execution_count": 7,
   "metadata": {},
   "outputs": [],
   "source": [
    "def calc_wbgt(ds):\n",
    "    ds = ds.to_dataset()\n",
    "    ds = ds.isel(time=slice(0,365))\n",
    "    # calculate elevation-adjusted pressure\n",
    "    ds[\"ps\"] = xr.apply_ufunc(\n",
    "        adjust_pressure, ds[\"tas\"], elev, dask=\"allowed\"\n",
    "    ).rename({\"elevation\": \"ps\"})[\"ps\"]\n",
    "    ds[\"ps\"].attrs[\"units\"] = \"Pa\"\n",
    "    ds[\"hurs\"] = xclim.indices.relative_humidity(\n",
    "        tas=ds[\"tasmax\"], huss=ds[\"huss\"], ps=ds[\"ps\"]\n",
    "    )\n",
    "    ds[\"tasmax\"].attrs = {}\n",
    "\n",
    "    # windspeed assumption of 0.5 m/s (approximating shaded/indoor\n",
    "    # conditions)\n",
    "    ds[\"sfcWind\"] = (ds[\"tas\"] - ds[\"tas\"]) + 0.5\n",
    "    ds[\"WBT\"] = tf.thermofeel.calculate_wbt(\n",
    "        ds[\"tasmax\"] - 273.15, ds[\"hurs\"]\n",
    "    )       \n",
    "\n",
    "    ds[\"BGT\"] = tf.thermofeel.calculate_bgt(\n",
    "        ds[\"tasmax\"], ds[\"tasmax\"], ds[\"sfcWind\"]\n",
    "    )\n",
    "    ds[\"WBGT\"] = wbgt(ds[\"WBT\"], ds[\"BGT\"], ds[\"tasmax\"] - 273.15)\n",
    "    ds[\"WBGT\"].attrs[\"units\"] = \"degC\"\n",
    "    ds = ds[[\"WBGT\"]]\n",
    "    ds = dask.optimize(ds)[0]\n",
    "    output = (\n",
    "        f\"s3://carbonplan-scratch/TEMP_NASA_NEX/wbgt-shade-\"\n",
    "        f\"gridded/years/{ds.attrs['gcm_scenario']}.zarr\"\n",
    "    )\n",
    "\n",
    "    \n",
    "    return ds.to_zarr('tmp.zarr', consolidated=True, compute=False, mode=\"w\")\n",
    "    \n",
    "\n",
    "    # ds.to_zarr('tmp.zarr', consolidated=True, mode=\"w\")\n",
    "delay_ds_list = [calc_wbgt(ds) for ds in dt.leaves]\n",
    "#filter out none\n",
    "delay_ds_list = [x for x in delay_ds_list if x is not None]"
   ]
  },
  {
   "cell_type": "code",
   "execution_count": null,
   "metadata": {},
   "outputs": [],
   "source": [
    "client.get_versions()"
   ]
  },
  {
   "cell_type": "code",
   "execution_count": null,
   "metadata": {},
   "outputs": [
    {
     "ename": "RuntimeError",
     "evalue": "Error during deserialization of the task graph. This frequently\noccurs if the Scheduler and Client have different environments.\nFor more information, see\nhttps://docs.dask.org/en/stable/deployment-considerations.html#consistent-software-environments\n",
     "output_type": "error",
     "traceback": [
      "\u001b[0;31m---------------------------------------------------------------------------\u001b[0m",
      "\u001b[0;31mGroupNotFoundError\u001b[0m                        Traceback (most recent call last)",
      "File \u001b[0;32m/opt/coiled/env/lib/python3.10/site-packages/distributed/scheduler.py:4611\u001b[0m, in \u001b[0;36mupdate_graph\u001b[0;34m()\u001b[0m\n",
      "File \u001b[0;32m/opt/coiled/env/lib/python3.10/site-packages/distributed/protocol/serialize.py:438\u001b[0m, in \u001b[0;36mdeserialize\u001b[0;34m()\u001b[0m\n",
      "File \u001b[0;32m/opt/coiled/env/lib/python3.10/site-packages/distributed/protocol/serialize.py:100\u001b[0m, in \u001b[0;36mpickle_loads\u001b[0;34m()\u001b[0m\n",
      "File \u001b[0;32m/opt/coiled/env/lib/python3.10/site-packages/distributed/protocol/pickle.py:94\u001b[0m, in \u001b[0;36mloads\u001b[0;34m()\u001b[0m\n",
      "File \u001b[0;32m/opt/coiled/env/lib/python3.10/site-packages/zarr/hierarchy.py:408\u001b[0m, in \u001b[0;36m__setstate__\u001b[0;34m()\u001b[0m\n",
      "File \u001b[0;32m/opt/coiled/env/lib/python3.10/site-packages/zarr/hierarchy.py:191\u001b[0m, in \u001b[0;36m__init__\u001b[0;34m()\u001b[0m\n",
      "\u001b[0;31mGroupNotFoundError\u001b[0m: group not found at path \"group not found at path ''\"",
      "\nThe above exception was the direct cause of the following exception:\n",
      "\u001b[0;31mRuntimeError\u001b[0m                              Traceback (most recent call last)",
      "Cell \u001b[0;32mIn[8], line 1\u001b[0m\n\u001b[0;32m----> 1\u001b[0m dask\u001b[39m.\u001b[39;49mcompute(delay_ds_list)\n",
      "File \u001b[0;32m~/micromamba/envs/nasa-nex/lib/python3.10/site-packages/dask/base.py:628\u001b[0m, in \u001b[0;36mcompute\u001b[0;34m(traverse, optimize_graph, scheduler, get, *args, **kwargs)\u001b[0m\n\u001b[1;32m    625\u001b[0m     postcomputes\u001b[39m.\u001b[39mappend(x\u001b[39m.\u001b[39m__dask_postcompute__())\n\u001b[1;32m    627\u001b[0m \u001b[39mwith\u001b[39;00m shorten_traceback():\n\u001b[0;32m--> 628\u001b[0m     results \u001b[39m=\u001b[39m schedule(dsk, keys, \u001b[39m*\u001b[39;49m\u001b[39m*\u001b[39;49mkwargs)\n\u001b[1;32m    630\u001b[0m \u001b[39mreturn\u001b[39;00m repack([f(r, \u001b[39m*\u001b[39ma) \u001b[39mfor\u001b[39;00m r, (f, a) \u001b[39min\u001b[39;00m \u001b[39mzip\u001b[39m(results, postcomputes)])\n",
      "File \u001b[0;32m~/micromamba/envs/nasa-nex/lib/python3.10/site-packages/distributed/client.py:2244\u001b[0m, in \u001b[0;36mClient._gather\u001b[0;34m(self, futures, errors, direct, local_worker)\u001b[0m\n\u001b[1;32m   2242\u001b[0m         exc \u001b[39m=\u001b[39m CancelledError(key)\n\u001b[1;32m   2243\u001b[0m     \u001b[39melse\u001b[39;00m:\n\u001b[0;32m-> 2244\u001b[0m         \u001b[39mraise\u001b[39;00m exception\u001b[39m.\u001b[39mwith_traceback(traceback)\n\u001b[1;32m   2245\u001b[0m     \u001b[39mraise\u001b[39;00m exc\n\u001b[1;32m   2246\u001b[0m \u001b[39mif\u001b[39;00m errors \u001b[39m==\u001b[39m \u001b[39m\"\u001b[39m\u001b[39mskip\u001b[39m\u001b[39m\"\u001b[39m:\n",
      "\u001b[0;31mRuntimeError\u001b[0m: Error during deserialization of the task graph. This frequently\noccurs if the Scheduler and Client have different environments.\nFor more information, see\nhttps://docs.dask.org/en/stable/deployment-considerations.html#consistent-software-environments\n"
     ]
    },
    {
     "name": "stderr",
     "output_type": "stream",
     "text": [
      "2023-10-26 17:33:16,375 - distributed.client - ERROR - Failed to reconnect to scheduler after 30.00 seconds, closing client\n",
      "2023-10-26 17:35:29,159 - distributed.deploy.cluster - WARNING - Failed to sync cluster info multiple times - perhaps there's a connection issue? Error:\n",
      "Traceback (most recent call last):\n",
      "  File \"/Users/nrhagen/micromamba/envs/nasa-nex/lib/python3.10/site-packages/distributed/comm/tcp.py\", line 490, in connect\n",
      "    stream = await self.client.connect(\n",
      "  File \"/Users/nrhagen/micromamba/envs/nasa-nex/lib/python3.10/site-packages/tornado/tcpclient.py\", line 279, in connect\n",
      "    af, addr, stream = await connector.start(connect_timeout=timeout)\n",
      "asyncio.exceptions.CancelledError\n",
      "\n",
      "During handling of the above exception, another exception occurred:\n",
      "\n",
      "Traceback (most recent call last):\n",
      "  File \"/Users/nrhagen/micromamba/envs/nasa-nex/lib/python3.10/asyncio/tasks.py\", line 456, in wait_for\n",
      "    return fut.result()\n",
      "asyncio.exceptions.CancelledError\n",
      "\n",
      "The above exception was the direct cause of the following exception:\n",
      "\n",
      "Traceback (most recent call last):\n",
      "  File \"/Users/nrhagen/micromamba/envs/nasa-nex/lib/python3.10/site-packages/distributed/comm/core.py\", line 342, in connect\n",
      "    comm = await wait_for(\n",
      "  File \"/Users/nrhagen/micromamba/envs/nasa-nex/lib/python3.10/site-packages/distributed/utils.py\", line 1910, in wait_for\n",
      "    return await asyncio.wait_for(fut, timeout)\n",
      "  File \"/Users/nrhagen/micromamba/envs/nasa-nex/lib/python3.10/asyncio/tasks.py\", line 458, in wait_for\n",
      "    raise exceptions.TimeoutError() from exc\n",
      "asyncio.exceptions.TimeoutError\n",
      "\n",
      "The above exception was the direct cause of the following exception:\n",
      "\n",
      "Traceback (most recent call last):\n",
      "  File \"/Users/nrhagen/micromamba/envs/nasa-nex/lib/python3.10/site-packages/distributed/deploy/cluster.py\", line 165, in _sync_cluster_info\n",
      "    await self.scheduler_comm.set_metadata(\n",
      "  File \"/Users/nrhagen/micromamba/envs/nasa-nex/lib/python3.10/site-packages/distributed/core.py\", line 1313, in send_recv_from_rpc\n",
      "    comm = await self.live_comm()\n",
      "  File \"/Users/nrhagen/micromamba/envs/nasa-nex/lib/python3.10/site-packages/distributed/core.py\", line 1272, in live_comm\n",
      "    comm = await connect(\n",
      "  File \"/Users/nrhagen/micromamba/envs/nasa-nex/lib/python3.10/site-packages/distributed/comm/core.py\", line 368, in connect\n",
      "    raise OSError(\n",
      "OSError: Timed out trying to connect to tls://35.88.62.238:8786 after 30 s\n",
      "error sending environment variables to cluster: Timed out trying to connect to tls://35.88.62.238:8786 after 30 s\n",
      "error sending local AWS or Google Cloud credentials to cluster: Timed out trying to connect to tls://35.88.62.238:8786 after 30 s\n",
      "error sending environment variables to cluster: Timed out trying to connect to tls://35.88.62.238:8786 after 30 s\n",
      "error sending environment variables to cluster: Timed out trying to connect to tls://35.88.62.238:8786 after 30 s\n",
      "error sending environment variables to cluster: Timed out trying to connect to tls://35.88.62.238:8786 after 30 s\n",
      "error sending environment variables to cluster: Timed out trying to connect to tls://35.88.62.238:8786 after 30 s\n",
      "error sending environment variables to cluster: Timed out trying to connect to tls://35.88.62.238:8786 after 30 s\n",
      "error sending environment variables to cluster: Timed out trying to connect to tls://35.88.62.238:8786 after 30 s\n",
      "error sending local AWS or Google Cloud credentials to cluster: Timed out trying to connect to tls://35.88.62.238:8786 after 30 s\n",
      "error sending environment variables to cluster: Timed out trying to connect to tls://35.88.62.238:8786 after 30 s\n",
      "error sending environment variables to cluster: Timed out trying to connect to tls://35.88.62.238:8786 after 30 s\n",
      "error sending local AWS or Google Cloud credentials to cluster: Timed out trying to connect to tls://35.88.62.238:8786 after 30 s\n",
      "error sending environment variables to cluster: Timed out trying to connect to tls://35.88.62.238:8786 after 30 s\n",
      "error sending environment variables to cluster: Timed out trying to connect to tls://35.88.62.238:8786 after 30 s\n",
      "error sending environment variables to cluster: Timed out trying to connect to tls://35.88.62.238:8786 after 30 s\n",
      "error sending local AWS or Google Cloud credentials to cluster: Timed out trying to connect to tls://35.88.62.238:8786 after 30 s\n",
      "error sending environment variables to cluster: Timed out trying to connect to tls://35.88.62.238:8786 after 30 s\n",
      "error sending environment variables to cluster: Timed out trying to connect to tls://35.88.62.238:8786 after 30 s\n",
      "error sending environment variables to cluster: Timed out trying to connect to tls://35.88.62.238:8786 after 30 s\n",
      "error sending local AWS or Google Cloud credentials to cluster: Timed out trying to connect to tls://35.88.62.238:8786 after 30 s\n",
      "error sending environment variables to cluster: Timed out trying to connect to tls://35.88.62.238:8786 after 30 s\n",
      "error sending environment variables to cluster: Timed out trying to connect to tls://35.88.62.238:8786 after 30 s\n",
      "error sending environment variables to cluster: Timed out trying to connect to tls://35.88.62.238:8786 after 30 s\n",
      "error sending environment variables to cluster: Timed out trying to connect to tls://35.88.62.238:8786 after 30 s\n",
      "error sending environment variables to cluster: Timed out trying to connect to tls://35.88.62.238:8786 after 30 s\n",
      "error sending local AWS or Google Cloud credentials to cluster: Timed out trying to connect to tls://35.88.62.238:8786 after 30 s\n",
      "error sending environment variables to cluster: Timed out trying to connect to tls://35.88.62.238:8786 after 30 s\n",
      "error sending environment variables to cluster: Timed out trying to connect to tls://35.88.62.238:8786 after 30 s\n",
      "error sending environment variables to cluster: Timed out trying to connect to tls://35.88.62.238:8786 after 30 s\n",
      "error sending local AWS or Google Cloud credentials to cluster: Timed out trying to connect to tls://35.88.62.238:8786 after 30 s\n",
      "error sending environment variables to cluster: Timed out trying to connect to tls://35.88.62.238:8786 after 30 s\n",
      "error sending environment variables to cluster: Timed out trying to connect to tls://35.88.62.238:8786 after 30 s\n",
      "error sending environment variables to cluster: Timed out trying to connect to tls://35.88.62.238:8786 after 30 s\n",
      "error sending environment variables to cluster: Timed out trying to connect to tls://35.88.62.238:8786 after 30 s\n",
      "error sending environment variables to cluster: Timed out trying to connect to tls://35.88.62.238:8786 after 30 s\n",
      "error sending environment variables to cluster: Timed out trying to connect to tls://35.88.62.238:8786 after 30 s\n",
      "error sending environment variables to cluster: Timed out trying to connect to tls://35.88.62.238:8786 after 30 s\n",
      "error sending environment variables to cluster: Timed out trying to connect to tls://35.88.62.238:8786 after 30 s\n",
      "error sending environment variables to cluster: Timed out trying to connect to tls://35.88.62.238:8786 after 30 s\n",
      "error sending environment variables to cluster: Timed out trying to connect to tls://35.88.62.238:8786 after 30 s\n",
      "error sending environment variables to cluster: Timed out trying to connect to tls://35.88.62.238:8786 after 30 s\n",
      "error sending environment variables to cluster: Timed out trying to connect to tls://35.88.62.238:8786 after 30 s\n",
      "error sending environment variables to cluster: Timed out trying to connect to tls://35.88.62.238:8786 after 30 s\n",
      "error sending environment variables to cluster: Timed out trying to connect to tls://35.88.62.238:8786 after 30 s\n",
      "error sending environment variables to cluster: Timed out trying to connect to tls://35.88.62.238:8786 after 30 s\n",
      "error sending environment variables to cluster: Timed out trying to connect to tls://35.88.62.238:8786 after 30 s\n",
      "error sending environment variables to cluster: Timed out trying to connect to tls://35.88.62.238:8786 after 30 s\n",
      "error sending environment variables to cluster: Timed out trying to connect to tls://35.88.62.238:8786 after 30 s\n",
      "error sending environment variables to cluster: Timed out trying to connect to tls://35.88.62.238:8786 after 30 s\n"
     ]
    }
   ],
   "source": [
    "dask.compute(delay_ds_list)"
   ]
  },
  {
   "cell_type": "code",
   "execution_count": null,
   "metadata": {},
   "outputs": [],
   "source": [
    "# 1 year: historical + ssp (2 datasets)\n",
    "# 12 min 22 seconds (local 8 workers home)"
   ]
  },
  {
   "cell_type": "code",
   "execution_count": null,
   "metadata": {},
   "outputs": [],
   "source": [
    "\n",
    "# @map_over_subtree\n",
    "# def calc_wbgt(ds):\n",
    "#     ds = ds.isel(time=slice(0,1))\n",
    "#     # calculate elevation-adjusted pressure\n",
    "#     ds[\"ps\"] = xr.apply_ufunc(\n",
    "#         adjust_pressure, ds[\"tas\"], elev, dask=\"allowed\"\n",
    "#     ).rename({\"elevation\": \"ps\"})[\"ps\"]\n",
    "#     ds[\"ps\"].attrs[\"units\"] = \"Pa\"\n",
    "#     ds[\"hurs\"] = xclim.indices.relative_humidity(\n",
    "#         tas=ds[\"tasmax\"], huss=ds[\"huss\"], ps=ds[\"ps\"]\n",
    "#     )\n",
    "#     ds[\"tasmax\"].attrs = {}\n",
    "\n",
    "#     # windspeed assumption of 0.5 m/s (approximating shaded/indoor\n",
    "#     # conditions)\n",
    "#     ds[\"sfcWind\"] = (ds[\"tas\"] - ds[\"tas\"]) + 0.5\n",
    "#     ds[\"WBT\"] = tf.thermofeel.calculate_wbt(\n",
    "#         ds[\"tasmax\"] - 273.15, ds[\"hurs\"]\n",
    "#     )\n",
    "\n",
    "#     ds[\"BGT\"] = tf.thermofeel.calculate_bgt(\n",
    "#         ds[\"tasmax\"], ds[\"tasmax\"], ds[\"sfcWind\"]\n",
    "#     )\n",
    "#     ds[\"WBGT\"] = wbgt(ds[\"WBT\"], ds[\"BGT\"], ds[\"tasmax\"] - 273.15)\n",
    "#     ds[\"WBGT\"].attrs[\"units\"] = \"degC\"\n",
    "#     ds = ds[[\"WBGT\"]]\n",
    "#     ds = dask.optimize(ds)[0]\n",
    "#     output = (\n",
    "#         f\"s3://carbonplan-scratch/TEMP_NASA_NEX/wbgt-shade-\"\n",
    "#         f\"gridded/years/{ds.attrs['gcm_scenario']}.zarr\"\n",
    "#     )\n",
    "\n",
    "    \n",
    "#     # ds.to_zarr(output, consolidated=True, mode=\"w\")\n",
    "#     return ds\n",
    "\n",
    "# delayed_datatree = calc_wbgt(dt)\n"
   ]
  },
  {
   "cell_type": "code",
   "execution_count": null,
   "metadata": {},
   "outputs": [],
   "source": [
    "# output = (\"s3://carbonplan-scratch/TEMP_NASA_NEX/DATATREE_TEST.zarr\")\n",
    "# delayed_to_zarr = delayed_datatree.to_zarr(output, compute=False)\n",
    "\n"
   ]
  },
  {
   "cell_type": "code",
   "execution_count": null,
   "metadata": {},
   "outputs": [],
   "source": []
  },
  {
   "cell_type": "code",
   "execution_count": null,
   "metadata": {},
   "outputs": [],
   "source": [
    "# delayed_obs.compute()"
   ]
  },
  {
   "cell_type": "code",
   "execution_count": null,
   "metadata": {},
   "outputs": [],
   "source": [
    "# 38 secs for single time slice and 10 gcms"
   ]
  }
 ],
 "metadata": {
  "kernelspec": {
   "display_name": "Python 3",
   "language": "python",
   "name": "python3"
  },
  "language_info": {
   "codemirror_mode": {
    "name": "ipython",
    "version": 3
   },
   "file_extension": ".py",
   "mimetype": "text/x-python",
   "name": "python",
   "nbconvert_exporter": "python",
   "pygments_lexer": "ipython3",
   "version": "3.10.13"
  }
 },
 "nbformat": 4,
 "nbformat_minor": 4
}
