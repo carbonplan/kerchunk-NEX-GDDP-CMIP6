{
 "cells": [
  {
   "attachments": {},
   "cell_type": "markdown",
   "metadata": {},
   "source": [
    "# Comparison using kerchunk / datatree"
   ]
  },
  {
   "cell_type": "code",
   "execution_count": 1,
   "metadata": {},
   "outputs": [],
   "source": [
    "from datatree import DataTree\n",
    "import dask.bag as db\n",
    "import xarray as xr\n",
    "import pandas as pd\n",
    "import coiled\n",
    "from utils import generate_WBGT"
   ]
  },
  {
   "cell_type": "code",
   "execution_count": 2,
   "metadata": {},
   "outputs": [
    {
     "data": {
      "application/vnd.jupyter.widget-view+json": {
       "model_id": "0d047c402a584308a45e7d9250a0944b",
       "version_major": 2,
       "version_minor": 0
      },
      "text/plain": [
       "Output()"
      ]
     },
     "metadata": {},
     "output_type": "display_data"
    },
    {
     "data": {
      "text/html": [
       "<pre style=\"white-space:pre;overflow-x:auto;line-height:normal;font-family:Menlo,'DejaVu Sans Mono',consolas,'Courier New',monospace\"></pre>\n"
      ],
      "text/plain": []
     },
     "metadata": {},
     "output_type": "display_data"
    },
    {
     "data": {
      "text/html": [
       "<pre style=\"white-space:pre;overflow-x:auto;line-height:normal;font-family:Menlo,'DejaVu Sans Mono',consolas,'Courier New',monospace\">╭────────────────────────────────────────── <span style=\"color: #008000; text-decoration-color: #008000; font-weight: bold\">Package Info</span> ──────────────────────────────────────────╮\n",
       "│                              ╷                                                                   │\n",
       "│  <span style=\"font-weight: bold\"> Package                    </span>│<span style=\"font-weight: bold\"> Note                                                            </span>  │\n",
       "│ ╶────────────────────────────┼─────────────────────────────────────────────────────────────────╴ │\n",
       "│   coiled_local_comparison    │ Source wheel built from                                           │\n",
       "│                              │ /Users/nrhagen/Documents/carbonplan/nasa-nex-kerchunk/notebooks   │\n",
       "│                              │ /comparison                                                       │\n",
       "│   coiled_local_site_packages │ Source wheel built from                                           │\n",
       "│                              │ /Users/nrhagen/.local/lib/python3.10/site-packages                │\n",
       "│                              ╵                                                                   │\n",
       "╰──────────────────────────────────────────────────────────────────────────────────────────────────╯\n",
       "</pre>\n"
      ],
      "text/plain": [
       "╭────────────────────────────────────────── \u001b[1;32mPackage Info\u001b[0m ──────────────────────────────────────────╮\n",
       "│                              ╷                                                                   │\n",
       "│  \u001b[1m \u001b[0m\u001b[1mPackage                   \u001b[0m\u001b[1m \u001b[0m│\u001b[1m \u001b[0m\u001b[1mNote                                                           \u001b[0m\u001b[1m \u001b[0m  │\n",
       "│ ╶────────────────────────────┼─────────────────────────────────────────────────────────────────╴ │\n",
       "│   coiled_local_comparison    │ Source wheel built from                                           │\n",
       "│                              │ /Users/nrhagen/Documents/carbonplan/nasa-nex-kerchunk/notebooks   │\n",
       "│                              │ /comparison                                                       │\n",
       "│   coiled_local_site_packages │ Source wheel built from                                           │\n",
       "│                              │ /Users/nrhagen/.local/lib/python3.10/site-packages                │\n",
       "│                              ╵                                                                   │\n",
       "╰──────────────────────────────────────────────────────────────────────────────────────────────────╯\n"
      ]
     },
     "metadata": {},
     "output_type": "display_data"
    },
    {
     "data": {
      "application/vnd.jupyter.widget-view+json": {
       "model_id": "488bf8a3bf86422ebc0fa6ab63a4c172",
       "version_major": 2,
       "version_minor": 0
      },
      "text/plain": [
       "Output()"
      ]
     },
     "metadata": {},
     "output_type": "display_data"
    },
    {
     "data": {
      "text/html": [
       "<pre style=\"white-space:pre;overflow-x:auto;line-height:normal;font-family:Menlo,'DejaVu Sans Mono',consolas,'Courier New',monospace\"></pre>\n"
      ],
      "text/plain": []
     },
     "metadata": {},
     "output_type": "display_data"
    }
   ],
   "source": [
    "cluster = coiled.Cluster(n_workers=10)\n",
    "client = cluster.get_client()"
   ]
  },
  {
   "cell_type": "code",
   "execution_count": 4,
   "metadata": {},
   "outputs": [],
   "source": [
    "# Read the reference catalog into a Pandas DataFrame\n",
    "cat_df = pd.read_csv(\n",
    "    \"s3://carbonplan-share/nasa-nex-reference/reference_catalog_nested.csv\"\n",
    ")\n",
    "# Select only ssp245 && HISTORICAL!\n",
    "ssp245_historical_catalog = cat_df[cat_df[\"ID\"].str.contains(\"ssp245|historical\")]\n",
    "\n",
    "# Subset 20 GCMs for time comparison\n",
    "ssp245_historical_catalog = ssp245_historical_catalog.iloc[0:20]\n",
    "\n",
    "# Convert the DataFrame into a dictionary\n",
    "catalog = ssp245_historical_catalog.set_index(\"ID\").T.to_dict(\"records\")[0]"
   ]
  },
  {
   "cell_type": "code",
   "execution_count": 5,
   "metadata": {},
   "outputs": [],
   "source": [
    "def load_ref_ds(gcm_scenario: str, url: str):\n",
    "    storage_options = {\n",
    "        \"remote_protocol\": \"s3\",\n",
    "        \"target_protocol\": \"s3\",\n",
    "        \"lazy\": True,\n",
    "        \"skip_instance_cache\": True,\n",
    "    }  # options passed to fsspec\n",
    "    open_dataset_options = {\"chunks\": {}}  # opens passed to xarray\n",
    "    ds = xr.open_dataset(\n",
    "        url,\n",
    "        engine=\"kerchunk\",\n",
    "        storage_options=storage_options,\n",
    "        open_dataset_options=open_dataset_options,\n",
    "    )\n",
    "\n",
    "    if set(\n",
    "        [\n",
    "            \"huss\",\n",
    "            \"tasmax\",\n",
    "            \"tas\",\n",
    "        ]\n",
    "    ).issubset(set(list(ds))):\n",
    "        ds = ds[[\"huss\", \"tasmax\", \"tas\"]]\n",
    "        # adding the gcm/scenario combo to attrs for later down the pipeline\n",
    "        ds.attrs[\"gcm_scenario\"] = gcm_scenario\n",
    "        return {gcm_scenario: ds}\n",
    "\n",
    "\n",
    "# convert catalog dict to tuples for dask bag starmap\n",
    "catalog_tuple_list = list(catalog.items())\n",
    "# Create a bag from tuple catalog\n",
    "cat_bag = db.from_sequence(catalog_tuple_list)\n",
    "# apply load_ref_ds to catalog tuple bag\n",
    "task_bag = filter(None, cat_bag.starmap(load_ref_ds).compute())\n",
    "\n",
    "# convert list of dicts to dict\n",
    "catalog_computed = {k: v for element in task_bag for k, v in element.items()}"
   ]
  },
  {
   "cell_type": "code",
   "execution_count": 6,
   "metadata": {},
   "outputs": [],
   "source": [
    "# Create datatree object from computed dictionary\n",
    "dt = DataTree.from_dict(catalog_computed)"
   ]
  },
  {
   "cell_type": "code",
   "execution_count": 7,
   "metadata": {},
   "outputs": [],
   "source": [
    "def calc_wbgt(ds):\n",
    "    ds = ds.isel(time=slice(0, 365))\n",
    "    output = (\n",
    "        f\"s3://carbonplan-scratch/TEMP_NASA_NEX/wbgt-shade-\"\n",
    "        f\"gridded/years/{ds.attrs['gcm_scenario']}.zarr\"\n",
    "    )\n",
    "    return generate_WBGT(ds=ds, output_fpath=output)\n",
    "\n",
    "\n",
    "ds_list = [ds.to_dataset() for ds in dt.leaves if ds.dims]\n",
    "bag = db.from_sequence(ds_list, npartitions=len(ds_list)).map(calc_wbgt)"
   ]
  },
  {
   "cell_type": "code",
   "execution_count": 8,
   "metadata": {},
   "outputs": [
    {
     "name": "stderr",
     "output_type": "stream",
     "text": [
      "/Users/nrhagen/micromamba/envs/nasa-nex/lib/python3.10/site-packages/distributed/client.py:3163: UserWarning: Sending large graph of size 26.09 MiB.\n",
      "This may cause some slowdown.\n",
      "Consider scattering data ahead of time and using futures.\n",
      "  warnings.warn(\n"
     ]
    },
    {
     "data": {
      "text/plain": [
       "[<xarray.backends.zarr.ZarrStore at 0x16adcb760>,\n",
       " <xarray.backends.zarr.ZarrStore at 0x16adcb4c0>,\n",
       " <xarray.backends.zarr.ZarrStore at 0x299bea260>,\n",
       " <xarray.backends.zarr.ZarrStore at 0x299be9700>,\n",
       " <xarray.backends.zarr.ZarrStore at 0x16adcb7d0>,\n",
       " <xarray.backends.zarr.ZarrStore at 0x299beb290>,\n",
       " <xarray.backends.zarr.ZarrStore at 0x299be93f0>,\n",
       " <xarray.backends.zarr.ZarrStore at 0x16adcbdf0>,\n",
       " <xarray.backends.zarr.ZarrStore at 0x16adcb610>,\n",
       " <xarray.backends.zarr.ZarrStore at 0x299beac00>,\n",
       " <xarray.backends.zarr.ZarrStore at 0x16adcb6f0>,\n",
       " <xarray.backends.zarr.ZarrStore at 0x16adcb530>,\n",
       " <xarray.backends.zarr.ZarrStore at 0x299be9380>,\n",
       " <xarray.backends.zarr.ZarrStore at 0x16adcb680>,\n",
       " <xarray.backends.zarr.ZarrStore at 0x16adcb5a0>,\n",
       " <xarray.backends.zarr.ZarrStore at 0x299beaab0>]"
      ]
     },
     "execution_count": 8,
     "metadata": {},
     "output_type": "execute_result"
    }
   ],
   "source": [
    "# calls compute on dask bag to trigger computation\n",
    "bag.compute()"
   ]
  },
  {
   "cell_type": "code",
   "execution_count": 9,
   "metadata": {},
   "outputs": [],
   "source": [
    "client.shutdown()"
   ]
  }
 ],
 "metadata": {
  "kernelspec": {
   "display_name": "Python 3 (ipykernel)",
   "language": "python",
   "name": "python3"
  },
  "language_info": {
   "codemirror_mode": {
    "name": "ipython",
    "version": 3
   },
   "file_extension": ".py",
   "mimetype": "text/x-python",
   "name": "python",
   "nbconvert_exporter": "python",
   "pygments_lexer": "ipython3",
   "version": "3.10.13"
  }
 },
 "nbformat": 4,
 "nbformat_minor": 4
}
