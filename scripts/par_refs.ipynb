{
 "cells": [
  {
   "cell_type": "code",
   "execution_count": 1,
   "metadata": {},
   "outputs": [],
   "source": [
    "from datatree import DataTree\n",
    "import dask.bag as db\n",
    "import xarray as xr\n",
    "import pandas as pd\n",
    "import coiled\n",
    "import pandas as pd\n",
    "from fsspec.implementations.reference import LazyReferenceMapper\n",
    "import os\n",
    "import dask\n",
    "import fsspec\n",
    "import ujson\n",
    "from distributed import Client\n",
    "from kerchunk.combine import MultiZarrToZarr\n",
    "from kerchunk.hdf import SingleHdf5ToZarr\n",
    "\n",
    "# Try out autoscaling? Set workers to # of refs?\n",
    "# cluster = coiled.Cluster(n_workers=10)\n",
    "# client = cluster.get_client()"
   ]
  },
  {
   "cell_type": "code",
   "execution_count": 2,
   "metadata": {},
   "outputs": [
    {
     "data": {
      "application/vnd.jupyter.widget-view+json": {
       "model_id": "d0dcbbd033494eaf8ab9535c11a8ecb8",
       "version_major": 2,
       "version_minor": 0
      },
      "text/plain": [
       "Output()"
      ]
     },
     "metadata": {},
     "output_type": "display_data"
    },
    {
     "data": {
      "text/html": [
       "<pre style=\"white-space:pre;overflow-x:auto;line-height:normal;font-family:Menlo,'DejaVu Sans Mono',consolas,'Courier New',monospace\"></pre>\n"
      ],
      "text/plain": []
     },
     "metadata": {},
     "output_type": "display_data"
    },
    {
     "data": {
      "text/html": [
       "<pre style=\"white-space:pre;overflow-x:auto;line-height:normal;font-family:Menlo,'DejaVu Sans Mono',consolas,'Courier New',monospace\">╭────────────────────────────────────────── <span style=\"color: #008000; text-decoration-color: #008000; font-weight: bold\">Package Info</span> ──────────────────────────────────────────╮\n",
       "│                              ╷                                                                   │\n",
       "│  <span style=\"font-weight: bold\"> Package                    </span>│<span style=\"font-weight: bold\"> Note                                                            </span>  │\n",
       "│ ╶────────────────────────────┼─────────────────────────────────────────────────────────────────╴ │\n",
       "│   coiled_local_site_packages │ Source wheel built from                                           │\n",
       "│                              │ /Users/nrhagen/.local/lib/python3.10/site-packages                │\n",
       "│                              ╵                                                                   │\n",
       "╰──────────────────────────────────────────────────────────────────────────────────────────────────╯\n",
       "</pre>\n"
      ],
      "text/plain": [
       "╭────────────────────────────────────────── \u001b[1;32mPackage Info\u001b[0m ──────────────────────────────────────────╮\n",
       "│                              ╷                                                                   │\n",
       "│  \u001b[1m \u001b[0m\u001b[1mPackage                   \u001b[0m\u001b[1m \u001b[0m│\u001b[1m \u001b[0m\u001b[1mNote                                                           \u001b[0m\u001b[1m \u001b[0m  │\n",
       "│ ╶────────────────────────────┼─────────────────────────────────────────────────────────────────╴ │\n",
       "│   coiled_local_site_packages │ Source wheel built from                                           │\n",
       "│                              │ /Users/nrhagen/.local/lib/python3.10/site-packages                │\n",
       "│                              ╵                                                                   │\n",
       "╰──────────────────────────────────────────────────────────────────────────────────────────────────╯\n"
      ]
     },
     "metadata": {},
     "output_type": "display_data"
    },
    {
     "data": {
      "application/vnd.jupyter.widget-view+json": {
       "model_id": "e99e3401db384f129f9b1961c805f20a",
       "version_major": 2,
       "version_minor": 0
      },
      "text/plain": [
       "Output()"
      ]
     },
     "metadata": {},
     "output_type": "display_data"
    },
    {
     "data": {
      "text/html": [
       "<pre style=\"white-space:pre;overflow-x:auto;line-height:normal;font-family:Menlo,'DejaVu Sans Mono',consolas,'Courier New',monospace\"></pre>\n"
      ],
      "text/plain": []
     },
     "metadata": {},
     "output_type": "display_data"
    }
   ],
   "source": [
    "cluster = coiled.Cluster(n_workers=10)\n",
    "client = cluster.get_client()"
   ]
  },
  {
   "cell_type": "code",
   "execution_count": 3,
   "metadata": {},
   "outputs": [],
   "source": [
    "\n",
    "def _nasa_nex_df() -> pd.DataFrame:\n",
    "    return pd.read_csv(\n",
    "        \"s3://carbonplan-share/nasa-nex-reference/nasa_nex_formatted.csv\"\n",
    "    )\n",
    "    # specify ensemble_member doesn't change # in query (ie, choosing a gcm + scenario gives a unique ensemble member)\n",
    "\n",
    "def _GCM_scenarios(df: pd.DataFrame) -> pd.DataFrame:\n",
    "    df = pd.read_csv(\n",
    "        \"s3://carbonplan-share/nasa-nex-reference/nasa_nex_formatted.csv\")\n",
    "    colapsed_df = (\n",
    "        df.groupby([\"GCM\", \"scenario\", \"ensemble_member\"])[\"variable\"]\n",
    "        .apply(list)\n",
    "        .reset_index()\n",
    "    )\n",
    "    colapsed_df[\"variable\"] = colapsed_df[\"variable\"].apply(lambda x: list(set(x)))\n",
    "\n",
    "    return colapsed_df\n",
    "\n",
    "def read_catalog_file(catalog_url):\n",
    "    return pd.read_csv(catalog_url)\n"
   ]
  },
  {
   "cell_type": "code",
   "execution_count": 4,
   "metadata": {},
   "outputs": [],
   "source": [
    "catalog_file_url = \"s3://carbonplan-share/nasa-nex-reference/reference_catalog_prod.csv\"\n",
    "nasa_nex_df = _nasa_nex_df()\n",
    "nasa_nex_catalog = _GCM_scenarios(nasa_nex_df) \n",
    "nasa_nex_catalog['ID'] = nasa_nex_catalog['GCM'] + '_' + nasa_nex_catalog['scenario']\n",
    "kerchunk_ref_catalog = read_catalog_file(catalog_file_url)\n",
    "\n",
    "\n",
    "## TESTING REMOVE FOR RUNNING!!!!\n",
    "## TESTING REMOVE FOR RUNNING!!!!\n",
    "kerchunk_ref_catalog = kerchunk_ref_catalog.sample(154)\n",
    "## TESTING REMOVE FOR RUNNING!!!!\n",
    "## TESTING REMOVE FOR RUNNING!!!!\n",
    "\n",
    "\n",
    "missing_refs_df = nasa_nex_catalog.merge(kerchunk_ref_catalog, how='outer', on='ID',indicator=True).query('_merge != \"both\"')[['GCM', 'scenario', 'ID']]\n"
   ]
  },
  {
   "cell_type": "code",
   "execution_count": 5,
   "metadata": {},
   "outputs": [],
   "source": [
    "fs_read = fsspec.filesystem(\"s3\", anon=True, skip_instance_cache=True)\n",
    "so = dict(mode=\"rb\", anon=True, default_fill_cache=False, default_cache_type=\"first\")\n",
    "\n",
    "def build_reference_catalog(catalog_file_url: str):\n",
    "    ref_list = [\"s3://\" + ref for ref in fs_read.ls('s3://carbonplan-share/nasa-nex-reference/references_prod/')]\n",
    "    ref_list.remove(\"s3://carbonplan-share/nasa-nex-reference/references_prod/\")\n",
    "    ref_df = pd.DataFrame({\"ID\":None, \"url\":ref_list})\n",
    "    ref_df['ID'] = ref_df['url'].str.split('/',expand=True)[5]\n",
    "    ref_df.to_csv(catalog_file_url, index=False)"
   ]
  },
  {
   "cell_type": "code",
   "execution_count": 6,
   "metadata": {},
   "outputs": [],
   "source": [
    "\n",
    "def gen_ref(row: pd.Series):\n",
    "\n",
    "    GCM = row[\"GCM\"]\n",
    "    scenario = row[\"scenario\"]\n",
    "\n",
    "    file_pattern = nasa_nex_df.query(f\"GCM == '{GCM}'  & scenario == '{scenario}'\"\n",
    "        )\n",
    "    # generate refs for all files\n",
    "    \n",
    "    def generate_json_reference(fil):\n",
    "        with fs_read.open(fil, **so) as infile:\n",
    "            h5chunks = SingleHdf5ToZarr(infile, fil, inline_threshold=300)\n",
    "            return h5chunks.translate()  # outf\n",
    "    \n",
    "    # def write_multi_ref(refs: list):\n",
    "\n",
    "    #     fs = fsspec.filesystem(\"s3\")\n",
    "    #     target_root = \"s3://carbonplan-share/nasa-nex-reference/references_prod/\"\n",
    "    #     store_name = f\"{GCM}_{scenario}\"\n",
    "    #     output_file_name = \"reference.parquet\"\n",
    "    #     outpath = target_root + store_name + \"/\" + output_file_name\n",
    "\n",
    "    #     if fs.exists(outpath):\n",
    "    #         fs.rm(outpath, recursive=True)\n",
    "    #     fs.makedir(outpath)\n",
    "\n",
    "    #     out = LazyReferenceMapper.create(1000, outpath, fs)\n",
    "\n",
    "    #     MultiZarrToZarr(\n",
    "    #         refs,\n",
    "    #         remote_protocol=\"s3\",\n",
    "    #         concat_dims=[\"time\"],\n",
    "    #         identical_dims=[\"lat\", \"lon\"],\n",
    "    #         out=out,\n",
    "    #     ).translate()\n",
    "\n",
    "    #     out.flush()\n",
    "    # # MultiZarrToZarr\n",
    "\n",
    "    # # Write Parquet\n",
    "    refs = [generate_json_reference(fil) for fil in file_pattern['url'].to_list()]\n",
    "    # write_multi_ref(refs)\n",
    "\n",
    "\n",
    "\n"
   ]
  },
  {
   "cell_type": "code",
   "execution_count": 7,
   "metadata": {},
   "outputs": [],
   "source": [
    "row_list = [row for _, row in missing_refs_df.iterrows()]\n",
    "\n",
    "\n",
    "bag = db.from_sequence(row_list, npartitions=len(row_list)).map(gen_ref)"
   ]
  },
  {
   "cell_type": "code",
   "execution_count": 8,
   "metadata": {},
   "outputs": [
    {
     "name": "stderr",
     "output_type": "stream",
     "text": [
      "/Users/nrhagen/micromamba/envs/nasa-nex/lib/python3.10/site-packages/distributed/client.py:3163: UserWarning: Sending large graph of size 15.36 MiB.\n",
      "This may cause some slowdown.\n",
      "Consider scattering data ahead of time and using futures.\n",
      "  warnings.warn(\n"
     ]
    },
    {
     "data": {
      "text/plain": [
       "[None, None, None, None, None, None, None, None, None, None]"
      ]
     },
     "execution_count": 8,
     "metadata": {},
     "output_type": "execute_result"
    },
    {
     "name": "stderr",
     "output_type": "stream",
     "text": [
      "2023-11-15 19:16:46,330 - distributed.client - ERROR - Failed to reconnect to scheduler after 30.00 seconds, closing client\n",
      "2023-11-15 19:54:09,415 - distributed.deploy.cluster - WARNING - Failed to sync cluster info multiple times - perhaps there's a connection issue? Error:\n",
      "TimeoutError: [Errno 60] Operation timed out\n",
      "\n",
      "The above exception was the direct cause of the following exception:\n",
      "\n",
      "Traceback (most recent call last):\n",
      "  File \"/Users/nrhagen/micromamba/envs/nasa-nex/lib/python3.10/site-packages/distributed/comm/core.py\", line 342, in connect\n",
      "    comm = await wait_for(\n",
      "  File \"/Users/nrhagen/micromamba/envs/nasa-nex/lib/python3.10/site-packages/distributed/utils.py\", line 1910, in wait_for\n",
      "    return await asyncio.wait_for(fut, timeout)\n",
      "  File \"/Users/nrhagen/micromamba/envs/nasa-nex/lib/python3.10/asyncio/tasks.py\", line 445, in wait_for\n",
      "    return fut.result()\n",
      "  File \"/Users/nrhagen/micromamba/envs/nasa-nex/lib/python3.10/site-packages/distributed/comm/tcp.py\", line 503, in connect\n",
      "    convert_stream_closed_error(self, e)\n",
      "  File \"/Users/nrhagen/micromamba/envs/nasa-nex/lib/python3.10/site-packages/distributed/comm/tcp.py\", line 141, in convert_stream_closed_error\n",
      "    raise CommClosedError(f\"in {obj}: {exc.__class__.__name__}: {exc}\") from exc\n",
      "distributed.comm.core.CommClosedError: in <distributed.comm.tcp.TLSConnector object at 0x157c3f520>: TimeoutError: [Errno 60] Operation timed out\n",
      "\n",
      "The above exception was the direct cause of the following exception:\n",
      "\n",
      "Traceback (most recent call last):\n",
      "  File \"/Users/nrhagen/micromamba/envs/nasa-nex/lib/python3.10/site-packages/distributed/deploy/cluster.py\", line 165, in _sync_cluster_info\n",
      "    await self.scheduler_comm.set_metadata(\n",
      "  File \"/Users/nrhagen/micromamba/envs/nasa-nex/lib/python3.10/site-packages/distributed/core.py\", line 1313, in send_recv_from_rpc\n",
      "    comm = await self.live_comm()\n",
      "  File \"/Users/nrhagen/micromamba/envs/nasa-nex/lib/python3.10/site-packages/distributed/core.py\", line 1272, in live_comm\n",
      "    comm = await connect(\n",
      "  File \"/Users/nrhagen/micromamba/envs/nasa-nex/lib/python3.10/site-packages/distributed/comm/core.py\", line 368, in connect\n",
      "    raise OSError(\n",
      "OSError: Timed out trying to connect to tls://35.88.20.108:8786 after 30 s\n"
     ]
    }
   ],
   "source": [
    "bag.compute()"
   ]
  },
  {
   "cell_type": "code",
   "execution_count": 12,
   "metadata": {},
   "outputs": [],
   "source": [
    "client.shutdown()"
   ]
  },
  {
   "cell_type": "code",
   "execution_count": null,
   "metadata": {},
   "outputs": [],
   "source": [
    "\n",
    "ds_list = [ds.to_dataset() for ds in dt.leaves if ds.dims]\n",
    "bag = db.from_sequence(ds_list, npartitions=len(ds_list)).map(calc_wbgt)"
   ]
  },
  {
   "attachments": {},
   "cell_type": "markdown",
   "metadata": {},
   "source": [
    "## Update Catalog"
   ]
  },
  {
   "cell_type": "code",
   "execution_count": null,
   "metadata": {},
   "outputs": [],
   "source": [
    "# build_reference_catalog(catalog_file_url)"
   ]
  }
 ],
 "metadata": {
  "kernelspec": {
   "display_name": "Python 3",
   "language": "python",
   "name": "python3"
  },
  "language_info": {
   "codemirror_mode": {
    "name": "ipython",
    "version": 3
   },
   "file_extension": ".py",
   "mimetype": "text/x-python",
   "name": "python",
   "nbconvert_exporter": "python",
   "pygments_lexer": "ipython3",
   "version": "3.10.13"
  },
  "orig_nbformat": 4
 },
 "nbformat": 4,
 "nbformat_minor": 2
}
